{
 "cells": [
  {
   "cell_type": "markdown",
   "metadata": {},
   "source": [
    "# Zekmachines\n",
    "\n",
    "__Name__: Aletta van Straatten\n"
   ]
  },
  {
   "cell_type": "markdown",
   "metadata": {
    "nbgrader": {
     "grade": false,
     "grade_id": "reporta",
     "locked": true,
     "schema_version": 3,
     "solution": false
    }
   },
   "source": [
    "# Reflection "
   ]
  },
  {
   "cell_type": "markdown",
   "metadata": {},
   "source": [
    "1. Pre-processing: We decided initially it would be best to only focus on words, we used the function isalpha to delete all string with non alphabetic tokens. This caused some issues with for example words that contain symbols such as \"-\". But our model yielded an higher accuracy with deleting these non-alphabetic symbols containing strings then when they are not deleted, so we decided to keep it this way. Each word is being set to lowercase and we applied lemmatization which improved our results, compared to not using lemmatization. The preprocessing obviously is done on both the queries and the documents. \n",
    "\n",
    "\n",
    "2. Tokenization: We used NLTK to tokenize the string. And the PorterStemmer from NLTK. PorterStemmer is known for its simplicity and speed. Because we stemmed the index we also need to stem the queries.\n",
    "\n",
    "\n",
    "3. Indexing: We made an inverted frequency index wherein the frequency off each term for each document is saved. The more specific properties such as corpus length can all be substracted from this inverted index, but this is rather slow to re-calculate this for every query. Therefore our ranking algorithms are all made up out of classes, and whenever a property of the index is used inside this ranking algorithm, these properties are substracted when the class is initialised. \n",
    "\n",
    "\n",
    "4. Ranking: The three classes / algorithms all produce a list containing 1000 highest scoring documents. This list contains tuples with two elements: the document name and the corresponding score. Based on this list of tuples a dataframe is created that can later on be used to calculate the MAP among other values.\n",
    "\n",
    "\n",
    "5. Tuning your models: With the LM model we made it so that with Jelinek Mercer smoothing the Lambda parameter is bigger the shorter the query is, because in a query with few words, it's more important that these words are present in a doc than with a long query. For BM25 we did change the parameters based on the MAP and got the optimal values a = 1.2 and b = 0.75. We tried to optimise the TFIDF model by changing the idf calculation from np.log10(N / df) to np.log10( (N + alpha) / (df + alpha)) where alpha is a parameter that can be changed, but this didnt change anything for the MAP so we decided to leave the formula as it is.\n",
    "\n",
    "\n",
    "6. Evaluation: (Algo evaluation) For the evaluation we used trec eval which caused some issues due to an incorrect format we used initially. But as told before we were able to optimise the BM25 hyper parameters in the end by simply running 20 different alpha values and 20 different beta values (this took quite some time). (Project evaluation) This project made us realise that working with data is not only about knowing how to program a specific algorithm, but also about reading data and understanding how to work with data based on what you see. A simple misunderstanding can cause an \"unfixable error\" and quite some stress. Next time we will try to understand the problem and data better before we start writing code, this was a big lesson for all of us."
   ]
  },
  {
   "cell_type": "markdown",
   "metadata": {
    "nbgrader": {
     "grade": false,
     "grade_id": "code",
     "locked": true,
     "schema_version": 3,
     "solution": false
    }
   },
   "source": [
    "# Code for the search engine\n",
    "\n",
    "## Preliminaries"
   ]
  },
  {
   "cell_type": "code",
   "execution_count": 1,
   "metadata": {},
   "outputs": [],
   "source": [
    "'''\n",
    "Please import all packages here (and optionally download nltk data if you do not have it).\n",
    "'''\n",
    "import timeit\n",
    "from IPython.display import clear_output\n",
    "import os\n",
    "import pandas as pd\n",
    "import numpy as np\n",
    "import seaborn as sns\n",
    "from bs4 import BeautifulSoup\n",
    "import re\n",
    "from collections import Counter, defaultdict\n",
    "from tqdm import tqdm_notebook\n",
    "from IPython.display import clear_output, display, HTML\n",
    "\n",
    "import nltk\n",
    "#nltk.download()\n",
    "from nltk.corpus import stopwords\n",
    "from nltk.stem.porter import PorterStemmer\n",
    "import pickle\n",
    "from nltk.stem import WordNetLemmatizer\n",
    "\n",
    "\n",
    "import matplotlib.pyplot as plt\n",
    "import matplotlib.gridspec as gridspec\n",
    "\n",
    "%matplotlib inline\n",
    "#%load_ext memory_profiler # if needed run !pip install memory_profiler\n"
   ]
  },
  {
   "cell_type": "code",
   "execution_count": 2,
   "metadata": {
    "nbgrader": {
     "grade": false,
     "grade_id": "test",
     "locked": true,
     "solution": false
    }
   },
   "outputs": [],
   "source": [
    "# do make and run a test\n",
    "#%cd ../../../trec_eval-9.0.7\n",
    "#! make \n",
    "#!head test/results.test   # how does the output look?"
   ]
  },
  {
   "cell_type": "code",
   "execution_count": 3,
   "metadata": {},
   "outputs": [
    {
     "name": "stdout",
     "output_type": "stream",
     "text": [
      "total 20\n",
      "drwxr-xr-x 7 wouter wouter 4096 sep 18  2020 \u001b[0m\u001b[01;34mdocs\u001b[0m/\n",
      "drwxr-xr-x 4 wouter wouter 4096 okt 15 11:50 \u001b[01;34mnotebooks\u001b[0m/\n",
      "drwxr-xr-x 3 wouter wouter 4096 okt 16 12:12 \u001b[01;34mqrels\u001b[0m/\n",
      "drwxr-xr-x 2 wouter wouter 4096 okt  9 22:17 \u001b[01;34mqueries\u001b[0m/\n",
      "drwxr-xr-x 4 wouter wouter 4096 okt  5 13:45 \u001b[01;34mtrec_eval-9.0.7\u001b[0m/\n",
      "map                   \tall\t0.1785\n"
     ]
    }
   ],
   "source": [
    "# handy paths\n",
    "trec_data_path= '../../../trec_uncompressed_1/' # Make sure it is placed in the path '../../../trec_uncompressed_1/trec_eval-9.0.7/\n",
    "trec_eval_path= trec_data_path+'trec_eval-9.0.7/'\n",
    "\n",
    "\n",
    "# just testing\n",
    "test_dir= trec_eval_path+'test/'\n",
    "\n",
    "# test whether your data is OK # should return a list of directories\n",
    "%ls -l $trec_data_path\n",
    "\n",
    "# test your trec_eval: should return: map                   \tall\t0.1785\n",
    "! $trec_eval_path/trec_eval -m map  $trec_eval_path/test/qrels.test $trec_eval_path/test/results.test "
   ]
  },
  {
   "cell_type": "markdown",
   "metadata": {},
   "source": [
    "# Your code"
   ]
  },
  {
   "cell_type": "markdown",
   "metadata": {},
   "source": [
    "## helper functions"
   ]
  },
  {
   "cell_type": "markdown",
   "metadata": {},
   "source": [
    "preprocess any string and return an empty string if it is not a valid string, this is used both for the queries and the indexing"
   ]
  },
  {
   "cell_type": "code",
   "execution_count": 4,
   "metadata": {},
   "outputs": [],
   "source": [
    "def preprocess_string(unprocessed_string, stopwords):\n",
    "    if not unprocessed_string.isalpha():\n",
    "        return \"\"\n",
    "    \n",
    "    processed_string = unprocessed_string.lower()\n",
    "    \n",
    "    if processed_string in stopwords:\n",
    "        return \"\"\n",
    "    \n",
    "    # lemming\n",
    "    lemmatizer = WordNetLemmatizer() \n",
    "    processed_string = lemmatizer.lemmatize(processed_string)\n",
    "    \n",
    "    return processed_string"
   ]
  },
  {
   "cell_type": "markdown",
   "metadata": {},
   "source": [
    "## Indexing"
   ]
  },
  {
   "cell_type": "code",
   "execution_count": 5,
   "metadata": {},
   "outputs": [],
   "source": [
    "def dd():\n",
    "    return defaultdict(int)"
   ]
  },
  {
   "cell_type": "code",
   "execution_count": 6,
   "metadata": {},
   "outputs": [],
   "source": [
    "def create_index(path_list):\n",
    "    index = defaultdict(dd) \n",
    "    stopwords = set(nltk.corpus.stopwords.words('english'))\n",
    "    \n",
    "    for i, path in enumerate(path_list):\n",
    "        clear_output(wait=True)\n",
    "        print(\"creating index:\", int(i/len(path_list) * 100), '%')\n",
    "\n",
    "        try:\n",
    "            f = open(path, \"r\")\n",
    "            content = f.read()\n",
    "\n",
    "            soup = BeautifulSoup(content, 'html.parser')\n",
    "            input_tag = soup.find_all(\"text\")\n",
    "            \n",
    "            \n",
    "            for docId, document in zip(soup.find_all(\"docno\"), soup.find_all(\"text\")):\n",
    "                tokens = nltk.tokenize.word_tokenize(document.get_text())\n",
    "\n",
    "                tokens[:] = map(lambda x: preprocess_string(x, stopwords), tokens)\n",
    "                for token in tokens:\n",
    "                    if not token:\n",
    "                        continue\n",
    "\n",
    "                    index[token.lower()][docId.get_text().replace(\" \", \"\")] += 1\n",
    "            \n",
    "        except:\n",
    "            print(\"file kan niet gelezen worden\") \n",
    "    \n",
    "    clear_output(wait=True)\n",
    "    return index\n",
    "\n"
   ]
  },
  {
   "cell_type": "markdown",
   "metadata": {},
   "source": [
    "## Queries"
   ]
  },
  {
   "cell_type": "code",
   "execution_count": 7,
   "metadata": {},
   "outputs": [],
   "source": [
    "class Query: \n",
    "    def __init__(self, path, sort):\n",
    "        self.queries = [] #list of list with words from query\n",
    "        self.query_ids = []\n",
    "        self.query_paths = []\n",
    "        self.stopwords = set(nltk.corpus.stopwords.words('english'))\n",
    "        self.path_to_paths(path)\n",
    "        self.process_from_paths(sort)\n",
    "    \n",
    "    def path_to_paths(self, path):\n",
    "        q_paths = []\n",
    "        for root, subdirectories, files in os.walk(path):\n",
    "            for file in files:\n",
    "                if 'readme' not in file and 'DS_Store' not in file:\n",
    "                    q_paths.append(os.path.join(root, file)) \n",
    "                    \n",
    "        self.query_paths = q_paths\n",
    "        \n",
    "    def process_from_paths(self, sort):\n",
    "        tmp = 0\n",
    "        if sort == 'train':\n",
    "            tmp = 1\n",
    "            \n",
    "        with open(self.query_paths[tmp], \"rb\") as file:\n",
    "            queries = pd.read_csv(file)\n",
    "            for title, ID in zip(queries['title'], queries['q_id']):\n",
    "                title_list = []\n",
    "                for word in title.split():\n",
    "                    tmp_w = preprocess_string(word, self.stopwords)\n",
    "                    if not tmp_w:\n",
    "                        continue\n",
    "\n",
    "                    title_list.append(tmp_w)\n",
    "\n",
    "                self.queries.append(title_list)\n",
    "                self.query_ids.append(ID)"
   ]
  },
  {
   "cell_type": "markdown",
   "metadata": {},
   "source": [
    "## Ranking algorithms"
   ]
  },
  {
   "cell_type": "code",
   "execution_count": 8,
   "metadata": {},
   "outputs": [],
   "source": [
    "                                                                                          \n",
    "                                                                                          \n",
    "# BBBBBBBBBBBBBBBBB   MMMMMMMM               MMMMMMMM 222222222222222    555555555555555555 \n",
    "# B::::::::::::::::B  M:::::::M             M:::::::M2:::::::::::::::22  5::::::::::::::::5 \n",
    "# B::::::BBBBBB:::::B M::::::::M           M::::::::M2::::::222222:::::2 5::::::::::::::::5 \n",
    "# BB:::::B     B:::::BM:::::::::M         M:::::::::M2222222     2:::::2 5:::::555555555555 \n",
    "#   B::::B     B:::::BM::::::::::M       M::::::::::M            2:::::2 5:::::5            \n",
    "#   B::::B     B:::::BM:::::::::::M     M:::::::::::M            2:::::2 5:::::5            \n",
    "#   B::::BBBBBB:::::B M:::::::M::::M   M::::M:::::::M         2222::::2  5:::::5555555555   \n",
    "#   B:::::::::::::BB  M::::::M M::::M M::::M M::::::M    22222::::::22   5:::::::::::::::5  \n",
    "#   B::::BBBBBB:::::B M::::::M  M::::M::::M  M::::::M  22::::::::222     555555555555:::::5 \n",
    "#   B::::B     B:::::BM::::::M   M:::::::M   M::::::M 2:::::22222                    5:::::5\n",
    "#   B::::B     B:::::BM::::::M    M:::::M    M::::::M2:::::2                         5:::::5\n",
    "#   B::::B     B:::::BM::::::M     MMMMM     M::::::M2:::::2             5555555     5:::::5\n",
    "# BB:::::BBBBBB::::::BM::::::M               M::::::M2:::::2       2222225::::::55555::::::5\n",
    "# B:::::::::::::::::B M::::::M               M::::::M2::::::2222222:::::2 55:::::::::::::55 \n",
    "# B::::::::::::::::B  M::::::M               M::::::M2::::::::::::::::::2   55:::::::::55   \n",
    "# BBBBBBBBBBBBBBBBB   MMMMMMMM               MMMMMMMM22222222222222222222     555555555     \n",
    "                                                                                          \n",
    "\n",
    "\n",
    "class BM25: \n",
    "    def __init__(self, Query, index, alpha=1.2, beta=0.75):\n",
    "        self.alpha = alpha\n",
    "        self.beta = beta\n",
    "        self.nr_docs = self.nr_docs(index)\n",
    "        self.avg_docl = self.avg_docl(index)\n",
    "        self.docl_dict = self.docl_dict(index)\n",
    "        self.queries = Query.queries\n",
    "        self.rank_score = self.rank_score(index)\n",
    "        self.final_df = self.rankdict_to_df(self.rank_score, Query)\n",
    "        \n",
    "    def nr_docs(self, index):\n",
    "        \"\"\" returns the number of documents in the index \"\"\"\n",
    "        all_docs = set()\n",
    "        for key in index:\n",
    "            for docname in index[key]:\n",
    "                all_docs.add(docname)\n",
    "        \n",
    "        return len(list(all_docs))\n",
    "    \n",
    "    def avg_docl(self, index):\n",
    "        total = 0\n",
    "        for key in index:\n",
    "            total += sum(index[key].values())\n",
    "                \n",
    "        return total / self.nr_docs\n",
    "    \n",
    "    def docl_dict(self, index):\n",
    "        doclength = defaultdict(int)\n",
    "        for key in index:\n",
    "            for docname in index[key]:\n",
    "                doclength[docname] += index[key][docname]\n",
    "                \n",
    "        return doclength\n",
    "        \n",
    "    def rank_score(self, index):\n",
    "        rank = []\n",
    "        for i, q in enumerate(self.queries):\n",
    "            scores = defaultdict(int)\n",
    "            for word in q:\n",
    "                if word not in index: continue\n",
    "                \n",
    "                N = self.nr_docs\n",
    "                n = len(index[word])\n",
    "                \n",
    "                idf = np.log10((N - n + 1 / 2) / (n + 1 / 2) + 0.3)\n",
    "                for docname in index[word]:\n",
    "                    tf = index[word][docname]\n",
    "                    numerator = (self.alpha + 1) * tf\n",
    "                    docl = self.docl_dict[docname]\n",
    "                    denominator = (self.alpha * (self.beta * (docl / self.avg_docl) + (1 - self.beta))) + tf\n",
    "                    scores[docname] += idf * numerator / denominator\n",
    "            \n",
    "            rank.append(sorted(scores.items(), key=lambda x: x[1], reverse=1)[:1000])\n",
    "\n",
    "        return [rank]\n",
    "    \n",
    "    def rankdict_to_df(self, rank_score, Query):\n",
    "        data = []\n",
    "        for query in rank_score:\n",
    "            for i, docname in enumerate(query):\n",
    "                docId = Query.query_ids[i]\n",
    "                for j, result in enumerate(docname):\n",
    "                    name, score = result\n",
    "                    data.append([docId, 'Q0', name, j + 1, score, '12602426'])\n",
    "                \n",
    "        return pd.DataFrame(data)"
   ]
  },
  {
   "cell_type": "code",
   "execution_count": 9,
   "metadata": {},
   "outputs": [],
   "source": [
    "    \n",
    "# TTTTTTTTTTTTTTTTTTTTTTTFFFFFFFFFFFFFFFFFFFFFFIIIIIIIIIIDDDDDDDDDDDDD      FFFFFFFFFFFFFFFFFFFFFF\n",
    "# T:::::::::::::::::::::TF::::::::::::::::::::FI::::::::ID::::::::::::DDD   F::::::::::::::::::::F\n",
    "# T:::::::::::::::::::::TF::::::::::::::::::::FI::::::::ID:::::::::::::::DD F::::::::::::::::::::F\n",
    "# T:::::TT:::::::TT:::::TFF::::::FFFFFFFFF::::FII::::::IIDDD:::::DDDDD:::::DFF::::::FFFFFFFFF::::F\n",
    "# TTTTTT  T:::::T  TTTTTT  F:::::F       FFFFFF  I::::I    D:::::D    D:::::D F:::::F       FFFFFF\n",
    "#         T:::::T          F:::::F               I::::I    D:::::D     D:::::DF:::::F             \n",
    "#         T:::::T          F::::::FFFFFFFFFF     I::::I    D:::::D     D:::::DF::::::FFFFFFFFFF   \n",
    "#         T:::::T          F:::::::::::::::F     I::::I    D:::::D     D:::::DF:::::::::::::::F   \n",
    "#         T:::::T          F:::::::::::::::F     I::::I    D:::::D     D:::::DF:::::::::::::::F   \n",
    "#         T:::::T          F::::::FFFFFFFFFF     I::::I    D:::::D     D:::::DF::::::FFFFFFFFFF   \n",
    "#         T:::::T          F:::::F               I::::I    D:::::D     D:::::DF:::::F             \n",
    "#         T:::::T          F:::::F               I::::I    D:::::D    D:::::D F:::::F             \n",
    "#       TT:::::::TT      FF:::::::FF           II::::::IIDDD:::::DDDDD:::::DFF:::::::FF           \n",
    "#       T:::::::::T      F::::::::FF           I::::::::ID:::::::::::::::DD F::::::::FF           \n",
    "#       T:::::::::T      F::::::::FF           I::::::::ID::::::::::::DDD   F::::::::FF           \n",
    "#       TTTTTTTTTTT      FFFFFFFFFFF           IIIIIIIIIIDDDDDDDDDDDDD      FFFFFFFFFFF          \n",
    "\n",
    "class TFIDF:\n",
    "    def __init__(self, Query, index):\n",
    "        \"\"\"\n",
    "        Query: Query object\n",
    "        index: Inverted index of all the documents (datatype a dict of dicts with integers)\n",
    "        \"\"\"\n",
    "        self.queries = Query.queries\n",
    "        self.nr_docs = self.nr_docs(index)\n",
    "        self.docl_dict = self.docl_dict(index)\n",
    "        self.rankings = self.ranking(index)\n",
    "        self.final_df = self.rankdict_to_df(self.rankings, Query)\n",
    "        \n",
    "    def nr_docs(self, index):\n",
    "        \"\"\" returns the number of documents in the index \"\"\"\n",
    "        all_docs = set()\n",
    "        for key in index:\n",
    "            all_docs.add(index[key].values())\n",
    "        \n",
    "        return len(list(all_docs))\n",
    "    \n",
    "    def docl_dict(self, index):\n",
    "        \"\"\" returns a dictionary with as key document names from the index and as value the length of this document \"\"\"\n",
    "        doclength = defaultdict(int)\n",
    "        for key in index:\n",
    "            for docname in index[key]:\n",
    "                doclength[docname] += index[key][docname]\n",
    "                \n",
    "        return doclength\n",
    "        \n",
    "    def ranking(self, index):\n",
    "        rank = []\n",
    "        for i, q in enumerate(self.queries):\n",
    "            query_vec = np.ones((1,len(q)))[0]\n",
    "            query_vec = list((query_vec)/np.linalg.norm(query_vec))\n",
    "\n",
    "            score = {}\n",
    "            doc_vectors = defaultdict(lambda: [0]*len(q))\n",
    "            length_query = np.sqrt((np.array(list(Counter(q).values())) ** 2).sum())\n",
    "            \n",
    "\n",
    "            for i, word in enumerate(q):\n",
    "                if word not in index: \n",
    "                    continue\n",
    "                                    \n",
    "                N = self.nr_docs\n",
    "                df = sum(index[word].values())\n",
    "                for docname in index[word]:\n",
    "                    tf = index[word][docname]\n",
    "                    idf = np.log10(N / df)\n",
    "                    # normalisation doesnt happen here yet since this isnt the final vector\n",
    "                    doc_vectors[docname][i] = tf * idf\n",
    "                    \n",
    "            for docn in doc_vectors:\n",
    "                docv = doc_vectors[docn]\n",
    "                \n",
    "                if sum(docv) == 0:\n",
    "                    continue\n",
    "                    \n",
    "                # norm here\n",
    "                docv = list((docv) / np.linalg.norm(docv))\n",
    "                score[docn] = np.dot(query_vec, docv)\n",
    "                      \n",
    "            rank.append(sorted(score.items(), key=lambda x: x[1], reverse=True)[:1000])       \n",
    "\n",
    "        return [rank]\n",
    "    \n",
    "    \n",
    "    def rankdict_to_df(self, rank_score, Query):\n",
    "        data = []\n",
    "        for query in rank_score:\n",
    "            for i, docname in enumerate(query):\n",
    "                docId = Query.query_ids[i]\n",
    "                for j, result in enumerate(docname):\n",
    "                    name, score = result\n",
    "                    data.append([docId, 'Q0', name, j + 1, score, '12602426'])\n",
    "                \n",
    "        return pd.DataFrame(data)"
   ]
  },
  {
   "cell_type": "code",
   "execution_count": 10,
   "metadata": {},
   "outputs": [],
   "source": [
    "# LLLLLLLLLLL             MMMMMMMM               MMMMMMMM\n",
    "# L:::::::::L             M:::::::M             M:::::::M\n",
    "# L:::::::::L             M::::::::M           M::::::::M\n",
    "# LL:::::::LL             M:::::::::M         M:::::::::M\n",
    "#   L:::::L               M::::::::::M       M::::::::::M\n",
    "#   L:::::L               M:::::::::::M     M:::::::::::M\n",
    "#   L:::::L               M:::::::M::::M   M::::M:::::::M\n",
    "#   L:::::L               M::::::M M::::M M::::M M::::::M\n",
    "#   L:::::L               M::::::M  M::::M::::M  M::::::M\n",
    "#   L:::::L               M::::::M   M:::::::M   M::::::M\n",
    "#   L:::::L               M::::::M    M:::::M    M::::::M\n",
    "#   L:::::L         LLLLLLM::::::M     MMMMM     M::::::M\n",
    "# LL:::::::LLLLLLLLL:::::LM::::::M               M::::::M\n",
    "# L::::::::::::::::::::::LM::::::M               M::::::M\n",
    "# L::::::::::::::::::::::LM::::::M               M::::::M\n",
    "# LLLLLLLLLLLLLLLLLLLLLLLLMMMMMMMM               MMMMMMMM  \n",
    "\n",
    "class LM:\n",
    "    def __init__(self, Query, index):\n",
    "        \"\"\"\n",
    "        Query: Query object\n",
    "        index: Inverted index of all the documents (datatype a dict of dicts with integers)\n",
    "        \"\"\"\n",
    "        self.queries = Query.queries\n",
    "        self.nr_docs = self.nr_docs(index)\n",
    "        self.docl_dict, self.corpusl = self.docl_dict_and_corpuslength(index)\n",
    "        self.rankings = self.ranking(index)\n",
    "        self.final_df_M, self.final_df_D = self.rankdict_to_dfs(self.rankings[0], self.rankings[1], Query)\n",
    "        \n",
    "    def nr_docs(self, index):\n",
    "        \"\"\" returns the number of documents in the index \"\"\"\n",
    "        all_docs = set()\n",
    "        for key in index:\n",
    "            all_docs.add(index[key].values())\n",
    "        \n",
    "        return len(list(all_docs))\n",
    "    \n",
    "    def docl_dict_and_corpuslength(self, index):\n",
    "        \"\"\" returns a dictionary with as key document names from the index and as value the length of this document \"\"\"\n",
    "        doclength = defaultdict(int)\n",
    "        corpuslength = 0\n",
    "        for key in index:\n",
    "            for docname in index[key]:\n",
    "                tmp = index[key][docname]\n",
    "                doclength[docname] += tmp\n",
    "                corpuslength += index[key][docname]\n",
    "                \n",
    "        return doclength, corpuslength\n",
    "        \n",
    "    def ranking(self, index):\n",
    "        rank_M = []\n",
    "        rank_D = []\n",
    "        for i, q in enumerate(self.queries):\n",
    "            scores_M = defaultdict(lambda:1)\n",
    "            scores_D = defaultdict(lambda:1)\n",
    "\n",
    "            Lambda = max(0.1, 1 - (0.01 * len(q)))\n",
    "            for word in q:\n",
    "                if word not in index: continue\n",
    "                \n",
    "                colMLE = sum(index[word].values()) / self.corpusl\n",
    "\n",
    "                for docname in index[word]:\n",
    "                    docMLE = index[word][docname] / self.docl_dict[docname]\n",
    "                    scores_M[docname] *= docMLE * Lambda + colMLE * (1 - Lambda)\n",
    "                    \n",
    "                    alpha = index[word][docname] / self.nr_docs\n",
    "                    scores_D[docname] *= (alpha * colMLE + index[word][docname]) / (alpha + self.docl_dict[docname])\n",
    "\n",
    "            rank_M.append(sorted(scores_M.items(), key=lambda x: x[1], reverse=1)[:1000]) \n",
    "            rank_D.append(sorted(scores_D.items(), key=lambda x: x[1], reverse=1)[:1000]) \n",
    "\n",
    "        return [rank_M], [rank_D]\n",
    "    \n",
    "    \n",
    "    \n",
    "    def rankdict_to_dfs(self, rank_M, rank_D, Query):\n",
    "        data = []\n",
    "        for query in rank_M:\n",
    "            for i, docname in enumerate(query):\n",
    "                docId = Query.query_ids[i]\n",
    "                for j, result in enumerate(docname):\n",
    "                    name, score = result\n",
    "                    data.append([docId, 'Q0', name, j + 1, score, '12602426'])\n",
    "                    \n",
    "        df_M = pd.DataFrame(data)\n",
    "        \n",
    "        data = []\n",
    "        for query in rank_D:\n",
    "            for i, docname in enumerate(query):\n",
    "                docId = Query.query_ids[i]\n",
    "                for j, result in enumerate(docname):\n",
    "                    name, score = result\n",
    "                    data.append([docId, 'Q0', name, j + 1, score, '12602426'])\n",
    "               \n",
    "        df_D = pd.DataFrame(data)\n",
    "        \n",
    "        return df_M, df_D"
   ]
  },
  {
   "cell_type": "markdown",
   "metadata": {},
   "source": [
    "## Run all"
   ]
  },
  {
   "cell_type": "code",
   "execution_count": 15,
   "metadata": {
    "scrolled": false
   },
   "outputs": [
    {
     "name": "stdout",
     "output_type": "stream",
     "text": [
      " ------------ train queries ------------ \n",
      "For the TFIDF model, 82 queries are evaluated. For these queries there are 80144 documents retrieved of which 2674 are relevant. In total there were 13430 relevant documents. This comes down to a MAP of 0.0355\n",
      "\n",
      "For the BM25 model, 82 queries are evaluated. For these queries there are 80144 documents retrieved of which 3997 are relevant. In total there were 13430 relevant documents. This comes down to a MAP of 0.0824\n",
      "\n",
      "For the LM_M model, 82 queries are evaluated. For these queries there are 80144 documents retrieved of which 340 are relevant. In total there were 13430 relevant documents. This comes down to a MAP of 0.0012\n",
      "\n",
      "For the LM_D model, 82 queries are evaluated. For these queries there are 80144 documents retrieved of which 340 are relevant. In total there were 13430 relevant documents. This comes down to a MAP of 0.0013\n",
      "\n",
      " ------------ graphs and tables for train queries ------------ \n",
      "for train set;\n",
      "A table with MAP values and interpolated average precision values for 11 recall values\n",
      "                       Rec.   TFIDF    BM25    LM_M    LM_D\n",
      "0   map                     0.0355  0.0824  0.0012  0.0013\n",
      "1   iprec_at_recall_0.00    0.3032  0.4728  0.0193  0.0194\n",
      "2   iprec_at_recall_0.10    0.1072  0.2399  0.0044  0.0044\n",
      "3   iprec_at_recall_0.20    0.0631  0.1709  0.0020  0.0020\n",
      "4   iprec_at_recall_0.30    0.0466  0.1239  0.0012  0.0012\n",
      "5   iprec_at_recall_0.40    0.0342  0.0781  0.0010  0.0010\n",
      "6   iprec_at_recall_0.50    0.0197  0.0426  0.0000  0.0000\n",
      "7   iprec_at_recall_0.60    0.0148  0.0203  0.0000  0.0000\n",
      "8   iprec_at_recall_0.70    0.0106  0.0077  0.0000  0.0000\n",
      "9   iprec_at_recall_0.80    0.0073  0.0007  0.0000  0.0000\n",
      "10  iprec_at_recall_0.90    0.0000  0.0000  0.0000  0.0000\n",
      "11  iprec_at_recall_1.00    0.0000  0.0000  0.0000  0.0000\n"
     ]
    },
    {
     "data": {
      "image/png": "[encoded data removed]",
      "text/plain": [
       "<Figure size 432x288 with 1 Axes>"
      ]
     },
     "metadata": {
      "needs_background": "light"
     },
     "output_type": "display_data"
    },
    {
     "name": "stdout",
     "output_type": "stream",
     "text": [
      "for train set;\n",
      " averaged 11 point interpolated precision recall graphs\n"
     ]
    },
    {
     "data": {
      "image/png": "[encoded data removed]",
      "text/plain": [
       "<Figure size 432x288 with 4 Axes>"
      ]
     },
     "metadata": {
      "needs_background": "light"
     },
     "output_type": "display_data"
    },
    {
     "data": {
      "image/png": "[encoded data removed]",
      "text/plain": [
       "<Figure size 432x288 with 1 Axes>"
      ]
     },
     "metadata": {
      "needs_background": "light"
     },
     "output_type": "display_data"
    },
    {
     "name": "stdout",
     "output_type": "stream",
     "text": [
      " ------------ test queries ------------ \n",
      "For the TFIDF model, 82 queries are evaluated. For these queries there are 80144 documents retrieved of which 2674 are relevant. In total there were 13430 relevant documents. This comes down to a MAP of 0.0355\n",
      "\n",
      "For the BM25 model, 82 queries are evaluated. For these queries there are 80144 documents retrieved of which 3997 are relevant. In total there were 13430 relevant documents. This comes down to a MAP of 0.0824\n",
      "\n",
      "For the LM_M model, 82 queries are evaluated. For these queries there are 80144 documents retrieved of which 340 are relevant. In total there were 13430 relevant documents. This comes down to a MAP of 0.0012\n",
      "\n",
      "For the LM_D model, 82 queries are evaluated. For these queries there are 80144 documents retrieved of which 340 are relevant. In total there were 13430 relevant documents. This comes down to a MAP of 0.0013\n",
      "\n",
      " ------------ graphs and tables for test queries ------------ \n",
      "for test set;\n",
      "A table with MAP values and interpolated average precision values for 11 recall values\n",
      "                       Rec.   TFIDF    BM25    LM_M    LM_D\n",
      "0   map                     0.0355  0.0824  0.0012  0.0013\n",
      "1   iprec_at_recall_0.00    0.3032  0.4728  0.0193  0.0194\n",
      "2   iprec_at_recall_0.10    0.1072  0.2399  0.0044  0.0044\n",
      "3   iprec_at_recall_0.20    0.0631  0.1709  0.0020  0.0020\n",
      "4   iprec_at_recall_0.30    0.0466  0.1239  0.0012  0.0012\n",
      "5   iprec_at_recall_0.40    0.0342  0.0781  0.0010  0.0010\n",
      "6   iprec_at_recall_0.50    0.0197  0.0426  0.0000  0.0000\n",
      "7   iprec_at_recall_0.60    0.0148  0.0203  0.0000  0.0000\n",
      "8   iprec_at_recall_0.70    0.0106  0.0077  0.0000  0.0000\n",
      "9   iprec_at_recall_0.80    0.0073  0.0007  0.0000  0.0000\n",
      "10  iprec_at_recall_0.90    0.0000  0.0000  0.0000  0.0000\n",
      "11  iprec_at_recall_1.00    0.0000  0.0000  0.0000  0.0000\n"
     ]
    },
    {
     "data": {
      "image/png": "[encoded data removed]",
      "text/plain": [
       "<Figure size 432x288 with 1 Axes>"
      ]
     },
     "metadata": {
      "needs_background": "light"
     },
     "output_type": "display_data"
    },
    {
     "name": "stdout",
     "output_type": "stream",
     "text": [
      "for test set;\n",
      " averaged 11 point interpolated precision recall graphs\n"
     ]
    },
    {
     "data": {
      "image/png": "[encoded data removed]",
      "text/plain": [
       "<Figure size 432x288 with 4 Axes>"
      ]
     },
     "metadata": {
      "needs_background": "light"
     },
     "output_type": "display_data"
    },
    {
     "data": {
      "image/png": "[encoded data removed]",
      "text/plain": [
       "<Figure size 432x288 with 1 Axes>"
      ]
     },
     "metadata": {
      "needs_background": "light"
     },
     "output_type": "display_data"
    },
    {
     "data": {
      "text/plain": [
       "True"
      ]
     },
     "execution_count": 15,
     "metadata": {},
     "output_type": "execute_result"
    }
   ],
   "source": [
    "def evaluate(index, studid):\n",
    "    for run in [\"train\",\"test\"]:\n",
    "        print(\" ------------ {} queries ------------ \".format(run))\n",
    "        query = Query('../../queries', run)\n",
    "\n",
    "        bm25 = BM25(query, index)\n",
    "        bm25.final_df.to_csv('results/BM25_{}_{}_results.csv'.format(run, studid), sep='\\t', header=False, index=False)\n",
    "\n",
    "        tfidf = TFIDF(query, index)\n",
    "        tfidf.final_df.to_csv('results/TFIDF_{}_{}_results.csv'.format(run, studid), sep='\\t', header=False, index=False)\n",
    "\n",
    "        lm = LM(query, index)\n",
    "        lm.final_df_M.to_csv('results/LM_M_{}_{}_results.csv'.format(run, studid), sep='\\t', header=False, index=False)\n",
    "        lm.final_df_D.to_csv('results/LM_D_{}_{}_results.csv'.format(run, studid), sep='\\t', header=False, index=False)\n",
    "        \n",
    "        \n",
    "        # Plotting the information\n",
    "        MAP_table = pd.DataFrame(columns=['Rec.'])\n",
    "        r_to_p = pd.DataFrame() \n",
    "        AP_distr = pd.DataFrame(columns=['AP'] )\n",
    "        for model in [\"TFIDF\", \"BM25\", \"LM_M\", \"LM_D\"]:          \n",
    "            qrel_file = trec_data_path+'qrels/qrels_{}.txt'.format(run)\n",
    "            results_file = 'results/{}_{}_{}_results.csv'.format(model, run, studid)\n",
    "\n",
    "            ### Overall Statistics ###\n",
    "            num_q = ! $trec_eval_path/trec_eval -m num_q $qrel_file $results_file\n",
    "            num_q = pd.DataFrame(data=num_q)[0].str.split('\\tall\\t',expand=True)\n",
    "            num_ret = ! $trec_eval_path/trec_eval -m num_ret $qrel_file $results_file\n",
    "            num_ret = pd.DataFrame(data=num_ret)[0].str.split('\\tall\\t',expand=True)\n",
    "            num_rel = ! $trec_eval_path/trec_eval -m num_rel $qrel_file $results_file\n",
    "            num_rel = pd.DataFrame(data=num_rel)[0].str.split('\\tall\\t',expand=True)\n",
    "            num_rel_ret = ! $trec_eval_path/trec_eval -m num_rel_ret $qrel_file $results_file\n",
    "            num_rel_ret = pd.DataFrame(data=num_rel_ret)[0].str.split('\\tall\\t',expand=True)\n",
    "            tmap = ! $trec_eval_path/trec_eval -m map $qrel_file $results_file\n",
    "            tmap = pd.DataFrame(data=tmap)[0].str.split('\\tall\\t',expand=True)\n",
    "            print('For the {} model, {} queries are evaluated. For these queries there are {} documents retrieved of which {} are relevant. In total there were {} relevant documents. This comes down to a MAP of {}\\n'.format(model, num_q[1][0], num_ret[1][0], num_rel_ret[1][0], num_rel[1][0], tmap[1][0]))\n",
    "\n",
    "            #  Create an averaged 11 point interpolated precision recall graph for your three systems.\n",
    "            #  RECALL AGAINST PRECISION\n",
    "            r = ! $trec_eval_path/trec_eval -m recall.5,10,15,20,30,100,200,500,1000 $qrel_file $results_file\n",
    "            rdf = pd.DataFrame(data=r)[0].str.split('\\tall\\t',expand=True)\n",
    "\n",
    "            p = ! $trec_eval_path/trec_eval -m P.5,10,15,20,30,100,200,500,1000 $qrel_file $results_file\n",
    "            pdf = pd.DataFrame(data=p)[0].str.split('\\tall\\t',expand=True)\n",
    "\n",
    "            r_to_p['Recall{}'.format(model)] = rdf[1] #  {}'.format(model)\n",
    "            r_to_p['Precision{}'.format(model)] = pdf[1]\n",
    "\n",
    "            r_to_p[['Recall{}'.format(model),'Precision{}'.format(model)]] = r_to_p[['Recall{}'.format(model),'Precision{}'.format(model)]].apply(pd.to_numeric)\n",
    "\n",
    "\n",
    "            #  Create a graph with for each system, the distribution of the obtained AP values\n",
    "            AP = ! $trec_eval_path/trec_eval -m Rprec_mult.0.40,0.60,0.80,1.00,1.20,1.40,1.60,1.80,2.00 $qrel_file $results_file\n",
    "            AP = pd.DataFrame(data=AP)[0].str.split('\\tall\\t',expand=True)\n",
    "\n",
    "            if AP_distr['AP'].empty:\n",
    "                AP_distr['AP'] = AP[0]\n",
    "\n",
    "            AP_distr[model] = AP[1]\n",
    "\n",
    "            #  Create a (pandas) table with MAP values and interpolated average precision values for 11 recall values, for your three system\n",
    "            recs = ! $trec_eval_path/trec_eval -m iprec_at_recall.0.00,0.10,0.20,0.30,0.40,0.50,0.60,0.70,0.80,0.90,1.00 -m map $qrel_file $results_file\n",
    "            recs = pd.DataFrame(data=recs)[0].str.split('\\tall\\t',expand=True)\n",
    "\n",
    "            if MAP_table['Rec.'].empty:\n",
    "                MAP_table['Rec.'] = recs[0]\n",
    "\n",
    "            MAP_table[model] = recs[1]\n",
    "\n",
    "            #  Create two plots for your LM models, one for Jellinek-Mercer smoothing and one for Dirichlet smoothing.\n",
    "\n",
    "\n",
    "        #  print graphs and tables\n",
    "        print(\" ------------ graphs and tables for {} queries ------------ \".format(run))\n",
    "\n",
    "        ##  AP Table\n",
    "        print('for',run,'set;\\nA table with MAP values and interpolated average precision values for 11 recall values\\n',MAP_table )\n",
    "\n",
    "        MAP_table[[\"TFIDF\", \"BM25\", \"LM_M\", \"LM_D\"]] = MAP_table[[\"TFIDF\", \"BM25\", \"LM_M\", \"LM_D\"]].apply(pd.to_numeric).drop(0)\n",
    "        MAP_table.plot(x='Rec.', y=[\"TFIDF\", \"BM25\", \"LM_M\", \"LM_D\"], kind=\"line\")\n",
    "        plt.title('interpolated average precision values for 11 recall values')\n",
    "        plt.show()\n",
    "\n",
    "        ## PR Plot\n",
    "        print('for',run,'set;\\n averaged 11 point interpolated precision recall graphs')\n",
    "        fig = plt.figure()\n",
    "        spec = gridspec.GridSpec(ncols=4, nrows=1, figure=fig)\n",
    "\n",
    "        ax = fig.add_subplot(spec[0,0])\n",
    "        plt.plot(r_to_p['RecallTFIDF'], r_to_p['PrecisionTFIDF'])\n",
    "        plt.ylabel(\"Precision\")\n",
    "        ax.set_title('TFIDF')\n",
    "        ax = fig.add_subplot((spec[0,1]))\n",
    "        plt.plot(r_to_p['RecallLM_D'], r_to_p['PrecisionLM_D'])\n",
    "        plt.xlabel(\"Recall\")\n",
    "        ax.set_title('LM_D')\n",
    "        ax = fig.add_subplot((spec[0,2]))\n",
    "        plt.plot(r_to_p['RecallLM_M'], r_to_p['PrecisionLM_M'])\n",
    "        plt.xlabel(\"Recall\")\n",
    "        ax.set_title('LM_M')\n",
    "        ax = fig.add_subplot((spec[0,3]))\n",
    "        plt.plot(r_to_p['RecallBM25'], r_to_p['PrecisionBM25'])\n",
    "        ax.set_title('BM25')\n",
    "        plt.show()\n",
    "\n",
    "        ## AP distribution plot\n",
    "        AP_distr[[\"TFIDF\", \"BM25\", \"LM_M\", \"LM_D\"]] = AP_distr[[\"TFIDF\", \"BM25\", \"LM_M\", \"LM_D\"]].apply(pd.to_numeric).drop(0)\n",
    "        AP_distr.plot(x='AP', y=[\"TFIDF\", \"BM25\", \"LM_M\", \"LM_D\"], kind=\"line\")\n",
    "        plt.xlabel('AP')\n",
    "        plt.ylabel('At point')\n",
    "        plt.title('The distribution of the obtained AP values')\n",
    "        plt.show()\n",
    "\n",
    "        ### END SOLUTION  \n",
    "        \n",
    "def runmyexperiment():\n",
    "    # your code here, doing what is described above\n",
    "    # in particular it will output plots and tables (make sure to print them)\n",
    "    \n",
    "    doc_paths = []\n",
    "    for root, subdirectories, files in os.walk('../../../trec_uncompressed_1/docs'):\n",
    "        for file in files:\n",
    "            if 'readme' not in file:\n",
    "                doc_paths.append(os.path.join(root, file))  \n",
    "\n",
    "    index = create_index(doc_paths)\n",
    "    evaluate(index, '12602426')\n",
    "    return True \n",
    "\n",
    "runmyexperiment()"
   ]
  }
 ],
 "metadata": {
  "celltoolbar": "Create Assignment",
  "kernelspec": {
   "display_name": "Python 3",
   "language": "python",
   "name": "python3"
  },
  "language_info": {
   "codemirror_mode": {
    "name": "ipython",
    "version": 2
   },
   "file_extension": ".py",
   "mimetype": "text/x-python",
   "name": "python",
   "nbconvert_exporter": "python",
   "pygments_lexer": "ipython2",
   "version": "2.7.16"
  },
  "toc": {
   "nav_menu": {},
   "number_sections": false,
   "sideBar": true,
   "skip_h1_title": false,
   "title_cell": "Table of Contents",
   "title_sidebar": "Contents",
   "toc_cell": false,
   "toc_position": {},
   "toc_section_display": true,
   "toc_window_display": false
  }
 },
 "nbformat": 4,
 "nbformat_minor": 2
}
